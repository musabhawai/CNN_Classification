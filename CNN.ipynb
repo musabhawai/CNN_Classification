{
 "cells": [
  {
   "cell_type": "code",
   "execution_count": 1,
   "id": "f93ddea4-8492-44e4-aed5-caa7e3b1ede6",
   "metadata": {},
   "outputs": [],
   "source": [
    "import tensorflow"
   ]
  },
  {
   "cell_type": "code",
   "execution_count": 24,
   "id": "ad696083-535e-4b1f-b9a5-f30799a1d711",
   "metadata": {},
   "outputs": [],
   "source": [
    "import numpy as np"
   ]
  },
  {
   "cell_type": "code",
   "execution_count": 7,
   "id": "c476cdf0-e6c3-4b5a-ba74-dc459018ffb1",
   "metadata": {},
   "outputs": [],
   "source": [
    "from keras.layers import Dense,Conv2D,MaxPooling2D,Flatten"
   ]
  },
  {
   "cell_type": "code",
   "execution_count": 4,
   "id": "3a54c1ff-4ff1-4fe8-ac4e-364f25d6db6e",
   "metadata": {},
   "outputs": [],
   "source": [
    "from keras.models import Sequential"
   ]
  },
  {
   "cell_type": "code",
   "execution_count": 14,
   "id": "f681a0aa-8f75-4d15-88dd-4ea094b901da",
   "metadata": {},
   "outputs": [],
   "source": [
    "from keras.preprocessing.image import ImageDataGenerator"
   ]
  },
  {
   "cell_type": "code",
   "execution_count": 5,
   "id": "3cafa46e-ae10-4470-97bd-64fd74994969",
   "metadata": {},
   "outputs": [],
   "source": [
    "cnn = Sequential()"
   ]
  },
  {
   "cell_type": "code",
   "execution_count": 10,
   "id": "eeb29eb2-3573-4277-985d-a485f6c469ce",
   "metadata": {},
   "outputs": [],
   "source": [
    "cnn.add(Conv2D(32,(3,3),input_shape = (64,64,3),activation='relu'))\n",
    "cnn.add(MaxPooling2D(pool_size=(2, 2)))\n",
    "cnn.add(Conv2D(16,(3,3),activation='relu'))\n",
    "cnn.add(MaxPooling2D(pool_size=(2, 2)))\n",
    "cnn.add(Flatten())"
   ]
  },
  {
   "cell_type": "code",
   "execution_count": 11,
   "id": "128763ab-d249-4121-96ee-44b2fea276db",
   "metadata": {},
   "outputs": [],
   "source": [
    "cnn.add(Dense(64,activation='relu'))\n",
    "cnn.add(Dense(32,activation='relu'))\n",
    "cnn.add(Dense(16,activation='relu'))\n",
    "cnn.add(Dense(8,activation='relu'))\n",
    "cnn.add(Dense(4,activation='relu'))\n",
    "cnn.add(Dense(1,activation='sigmoid'))"
   ]
  },
  {
   "cell_type": "code",
   "execution_count": 12,
   "id": "ba043525-744a-40d7-865e-c32eb1f41c02",
   "metadata": {},
   "outputs": [],
   "source": [
    "cnn.compile(loss='binary_crossentropy',optimizer='adam')"
   ]
  },
  {
   "cell_type": "code",
   "execution_count": 13,
   "id": "f03815c0-0a5c-4978-8108-b84e65eafb5a",
   "metadata": {},
   "outputs": [],
   "source": [
    "# keras Documentation -> image processing"
   ]
  },
  {
   "cell_type": "code",
   "execution_count": 57,
   "id": "483f06f8-4083-4289-ad50-8885dffd2b59",
   "metadata": {},
   "outputs": [
    {
     "name": "stdout",
     "output_type": "stream",
     "text": [
      "Found 8000 images belonging to 2 classes.\n",
      "Found 2000 images belonging to 2 classes.\n"
     ]
    },
    {
     "name": "stderr",
     "output_type": "stream",
     "text": [
      "C:\\Users\\Admin\\AppData\\Local\\Temp\\ipykernel_9608\\570107092.py:21: UserWarning: `Model.fit_generator` is deprecated and will be removed in a future version. Please use `Model.fit`, which supports generators.\n",
      "  cnn.fit_generator(\n"
     ]
    },
    {
     "name": "stdout",
     "output_type": "stream",
     "text": [
      "Epoch 1/50\n",
      "100/100 [==============================] - 50s 496ms/step - loss: 0.6767 - val_loss: 0.6579\n",
      "Epoch 2/50\n",
      "100/100 [==============================] - 54s 539ms/step - loss: 0.6566 - val_loss: 0.6577\n",
      "Epoch 3/50\n",
      "100/100 [==============================] - 35s 354ms/step - loss: 0.6207 - val_loss: 0.6336\n",
      "Epoch 4/50\n",
      "100/100 [==============================] - 35s 348ms/step - loss: 0.6083 - val_loss: 0.6143\n",
      "Epoch 5/50\n",
      "100/100 [==============================] - 38s 382ms/step - loss: 0.6091 - val_loss: 0.6418\n",
      "Epoch 6/50\n",
      "100/100 [==============================] - 37s 371ms/step - loss: 0.5900 - val_loss: 0.5734\n",
      "Epoch 7/50\n",
      "100/100 [==============================] - 32s 320ms/step - loss: 0.5733 - val_loss: 0.5550\n",
      "Epoch 8/50\n",
      "100/100 [==============================] - 31s 312ms/step - loss: 0.5680 - val_loss: 0.5848\n",
      "Epoch 9/50\n",
      "100/100 [==============================] - 35s 350ms/step - loss: 0.5706 - val_loss: 0.5591\n",
      "Epoch 10/50\n",
      "100/100 [==============================] - 43s 426ms/step - loss: 0.5349 - val_loss: 0.5356\n",
      "Epoch 11/50\n",
      "100/100 [==============================] - 36s 357ms/step - loss: 0.5481 - val_loss: 0.5424\n",
      "Epoch 12/50\n",
      "100/100 [==============================] - 32s 316ms/step - loss: 0.5445 - val_loss: 0.5315\n",
      "Epoch 13/50\n",
      "100/100 [==============================] - 32s 324ms/step - loss: 0.5352 - val_loss: 0.5194\n",
      "Epoch 14/50\n",
      "100/100 [==============================] - 35s 345ms/step - loss: 0.5171 - val_loss: 0.5341\n",
      "Epoch 15/50\n",
      "100/100 [==============================] - 32s 317ms/step - loss: 0.5211 - val_loss: 0.5201\n",
      "Epoch 16/50\n",
      "100/100 [==============================] - 33s 330ms/step - loss: 0.5096 - val_loss: 0.5152\n",
      "Epoch 17/50\n",
      "100/100 [==============================] - 32s 321ms/step - loss: 0.5002 - val_loss: 0.5089\n",
      "Epoch 18/50\n",
      "100/100 [==============================] - 35s 352ms/step - loss: 0.5044 - val_loss: 0.4923\n",
      "Epoch 19/50\n",
      "100/100 [==============================] - 32s 319ms/step - loss: 0.4924 - val_loss: 0.4929\n",
      "Epoch 20/50\n",
      "100/100 [==============================] - 34s 337ms/step - loss: 0.4849 - val_loss: 0.5014\n",
      "Epoch 21/50\n",
      "100/100 [==============================] - 35s 352ms/step - loss: 0.4855 - val_loss: 0.4910\n",
      "Epoch 22/50\n",
      "100/100 [==============================] - 38s 375ms/step - loss: 0.4779 - val_loss: 0.4759\n",
      "Epoch 23/50\n",
      "100/100 [==============================] - 34s 342ms/step - loss: 0.4890 - val_loss: 0.4789\n",
      "Epoch 24/50\n",
      "100/100 [==============================] - 31s 312ms/step - loss: 0.4735 - val_loss: 0.4734\n",
      "Epoch 25/50\n",
      "100/100 [==============================] - 35s 354ms/step - loss: 0.4572 - val_loss: 0.5137\n",
      "Epoch 26/50\n",
      "100/100 [==============================] - 35s 347ms/step - loss: 0.4687 - val_loss: 0.5087\n",
      "Epoch 27/50\n",
      "100/100 [==============================] - 38s 381ms/step - loss: 0.4675 - val_loss: 0.4689\n",
      "Epoch 28/50\n",
      "100/100 [==============================] - 31s 314ms/step - loss: 0.4516 - val_loss: 0.4754\n",
      "Epoch 29/50\n",
      "100/100 [==============================] - 34s 344ms/step - loss: 0.4559 - val_loss: 0.4701\n",
      "Epoch 30/50\n",
      "100/100 [==============================] - 36s 360ms/step - loss: 0.4591 - val_loss: 0.4525\n",
      "Epoch 31/50\n",
      "100/100 [==============================] - 34s 338ms/step - loss: 0.4534 - val_loss: 0.4519\n",
      "Epoch 32/50\n",
      "100/100 [==============================] - 33s 334ms/step - loss: 0.4311 - val_loss: 0.4725\n",
      "Epoch 33/50\n",
      "100/100 [==============================] - 33s 331ms/step - loss: 0.4200 - val_loss: 0.4408\n",
      "Epoch 34/50\n",
      "100/100 [==============================] - 33s 328ms/step - loss: 0.4431 - val_loss: 0.4370\n",
      "Epoch 35/50\n",
      "100/100 [==============================] - 35s 354ms/step - loss: 0.4431 - val_loss: 0.4444\n",
      "Epoch 36/50\n",
      "100/100 [==============================] - 32s 322ms/step - loss: 0.4368 - val_loss: 0.5025\n",
      "Epoch 37/50\n",
      "100/100 [==============================] - 31s 312ms/step - loss: 0.4403 - val_loss: 0.4598\n",
      "Epoch 38/50\n",
      "100/100 [==============================] - 34s 335ms/step - loss: 0.4407 - val_loss: 0.4502\n",
      "Epoch 39/50\n",
      "100/100 [==============================] - 32s 325ms/step - loss: 0.4323 - val_loss: 0.4415\n",
      "Epoch 40/50\n",
      "100/100 [==============================] - 30s 303ms/step - loss: 0.4221 - val_loss: 0.4425\n",
      "Epoch 41/50\n",
      "100/100 [==============================] - 30s 303ms/step - loss: 0.4127 - val_loss: 0.4461\n",
      "Epoch 42/50\n",
      "100/100 [==============================] - 34s 341ms/step - loss: 0.3976 - val_loss: 0.4300\n",
      "Epoch 43/50\n",
      "100/100 [==============================] - 34s 341ms/step - loss: 0.4097 - val_loss: 0.4350\n",
      "Epoch 44/50\n",
      "100/100 [==============================] - 36s 363ms/step - loss: 0.4127 - val_loss: 0.4495\n",
      "Epoch 45/50\n",
      "100/100 [==============================] - 36s 360ms/step - loss: 0.4206 - val_loss: 0.4262\n",
      "Epoch 46/50\n",
      "100/100 [==============================] - 37s 371ms/step - loss: 0.4058 - val_loss: 0.4285\n",
      "Epoch 47/50\n",
      "100/100 [==============================] - 31s 307ms/step - loss: 0.4096 - val_loss: 0.4594\n",
      "Epoch 48/50\n",
      "100/100 [==============================] - 32s 323ms/step - loss: 0.3977 - val_loss: 0.4583\n",
      "Epoch 49/50\n",
      "100/100 [==============================] - 32s 318ms/step - loss: 0.3958 - val_loss: 0.4332\n",
      "Epoch 50/50\n",
      "100/100 [==============================] - 32s 320ms/step - loss: 0.3939 - val_loss: 0.5032\n"
     ]
    },
    {
     "data": {
      "text/plain": [
       "<keras.src.callbacks.History at 0x1e8a043dcd0>"
      ]
     },
     "execution_count": 57,
     "metadata": {},
     "output_type": "execute_result"
    }
   ],
   "source": [
    "train_datagen = ImageDataGenerator(\n",
    "        rescale=1./255,\n",
    "        shear_range=0.2,\n",
    "        zoom_range=0.2,\n",
    "        horizontal_flip=True)\n",
    "\n",
    "test_datagen = ImageDataGenerator(rescale=1./255)\n",
    "\n",
    "train_generator = train_datagen.flow_from_directory(\n",
    "        r'C:\\Users\\Admin\\Desktop\\GITHUB\\CNN\\cats_dogs\\train',\n",
    "        target_size=(64, 64),\n",
    "        batch_size=32,\n",
    "        class_mode='binary')\n",
    "\n",
    "test_generator = test_datagen.flow_from_directory(\n",
    "        r'C:\\Users\\Admin\\Desktop\\GITHUB\\CNN\\cats_dogs\\test',\n",
    "        target_size=(64, 64),\n",
    "        batch_size=32,\n",
    "        class_mode='binary')\n",
    "\n",
    "cnn.fit_generator(\n",
    "        train_generator,\n",
    "        steps_per_epoch=100,\n",
    "        epochs=50,\n",
    "        validation_data=test_generator)"
   ]
  },
  {
   "cell_type": "code",
   "execution_count": 58,
   "id": "7f2e1fd3-1cc7-4791-9242-94e6d8caf4dd",
   "metadata": {},
   "outputs": [],
   "source": [
    "from keras.preprocessing import image"
   ]
  },
  {
   "cell_type": "code",
   "execution_count": 65,
   "id": "00516669-ba54-4efb-aced-67b6ae0e76da",
   "metadata": {},
   "outputs": [],
   "source": [
    "img = image.load_img(r'C:\\Users\\Admin\\Desktop\\GITHUB\\CNN\\cat.jpeg',target_size=(64,64))"
   ]
  },
  {
   "cell_type": "code",
   "execution_count": 66,
   "id": "2efb2559-62a5-4bec-b34f-569080d14e5f",
   "metadata": {},
   "outputs": [],
   "source": [
    "img = image.img_to_array(img)"
   ]
  },
  {
   "cell_type": "code",
   "execution_count": 67,
   "id": "96026fb3-bfc3-4185-91d7-1c1e5fb44d5a",
   "metadata": {},
   "outputs": [
    {
     "data": {
      "text/plain": [
       "array([[[213., 198., 177.],\n",
       "        [204., 194., 184.],\n",
       "        [208., 194., 191.],\n",
       "        ...,\n",
       "        [179., 187., 176.],\n",
       "        [173., 179., 167.],\n",
       "        [171., 171., 161.]],\n",
       "\n",
       "       [[225., 212., 196.],\n",
       "        [214., 207., 199.],\n",
       "        [211., 201., 199.],\n",
       "        ...,\n",
       "        [175., 186., 178.],\n",
       "        [170., 177., 169.],\n",
       "        [186., 189., 182.]],\n",
       "\n",
       "       [[227., 215., 203.],\n",
       "        [232., 227., 221.],\n",
       "        [236., 228., 225.],\n",
       "        ...,\n",
       "        [192., 205., 198.],\n",
       "        [172., 182., 174.],\n",
       "        [192., 195., 188.]],\n",
       "\n",
       "       ...,\n",
       "\n",
       "       [[206., 173., 154.],\n",
       "        [211., 178., 161.],\n",
       "        [212., 178., 166.],\n",
       "        ...,\n",
       "        [ 49.,  46.,  37.],\n",
       "        [ 38.,  43.,  46.],\n",
       "        [ 38.,  48.,  58.]],\n",
       "\n",
       "       [[209., 176., 157.],\n",
       "        [209., 176., 161.],\n",
       "        [210., 176., 166.],\n",
       "        ...,\n",
       "        [ 49.,  48.,  44.],\n",
       "        [ 35.,  44.,  51.],\n",
       "        [ 32.,  46.,  59.]],\n",
       "\n",
       "       [[213., 180., 165.],\n",
       "        [206., 173., 158.],\n",
       "        [208., 174., 162.],\n",
       "        ...,\n",
       "        [ 39.,  38.,  43.],\n",
       "        [ 29.,  36.,  52.],\n",
       "        [  9.,  24.,  47.]]], dtype=float32)"
      ]
     },
     "execution_count": 67,
     "metadata": {},
     "output_type": "execute_result"
    }
   ],
   "source": [
    "img"
   ]
  },
  {
   "cell_type": "code",
   "execution_count": 68,
   "id": "b61808d6-74ab-4843-9223-8e89ea2b68fb",
   "metadata": {},
   "outputs": [],
   "source": [
    "img = np.expand_dims(img,axis=0)"
   ]
  },
  {
   "cell_type": "code",
   "execution_count": 69,
   "id": "5b90bd23-f259-45f3-843b-e0e2986287f5",
   "metadata": {},
   "outputs": [
    {
     "name": "stdout",
     "output_type": "stream",
     "text": [
      "1/1 [==============================] - 0s 37ms/step\n"
     ]
    },
    {
     "data": {
      "text/plain": [
       "array([[1.]], dtype=float32)"
      ]
     },
     "execution_count": 69,
     "metadata": {},
     "output_type": "execute_result"
    }
   ],
   "source": [
    "p= cnn.predict(img)\n",
    "p"
   ]
  },
  {
   "cell_type": "code",
   "execution_count": 70,
   "id": "8611d74f-e745-42ab-8966-69bbdad18a97",
   "metadata": {},
   "outputs": [
    {
     "name": "stdout",
     "output_type": "stream",
     "text": [
      "Cat\n"
     ]
    }
   ],
   "source": [
    "if p[0][0] <0.5:\n",
    "    print(\"Dog\")\n",
    "else:\n",
    "    print(\"Cat\")"
   ]
  },
  {
   "cell_type": "code",
   "execution_count": null,
   "id": "24de2443-c23c-40e6-a41a-d789ee48153b",
   "metadata": {},
   "outputs": [],
   "source": []
  }
 ],
 "metadata": {
  "kernelspec": {
   "display_name": "Python 3 (ipykernel)",
   "language": "python",
   "name": "python3"
  },
  "language_info": {
   "codemirror_mode": {
    "name": "ipython",
    "version": 3
   },
   "file_extension": ".py",
   "mimetype": "text/x-python",
   "name": "python",
   "nbconvert_exporter": "python",
   "pygments_lexer": "ipython3",
   "version": "3.8.10"
  }
 },
 "nbformat": 4,
 "nbformat_minor": 5
}
